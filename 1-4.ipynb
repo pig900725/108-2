{
 "cells": [
  {
   "cell_type": "markdown",
   "metadata": {},
   "source": [
    "### 星座查詢"
   ]
  },
  {
   "cell_type": "code",
   "execution_count": 1,
   "metadata": {},
   "outputs": [],
   "source": [
    "%matplotlib inline\n",
    "import numpy as np\n",
    "import matplotlib.pyplot as plt\n",
    "import pandas as pd"
   ]
  },
  {
   "cell_type": "code",
   "execution_count": 2,
   "metadata": {},
   "outputs": [],
   "source": [
    "from ipywidgets import interact"
   ]
  },
  {
   "cell_type": "code",
   "execution_count": 3,
   "metadata": {},
   "outputs": [],
   "source": [
    "def f(星座):\n",
    "    print(星座)"
   ]
  },
  {
   "cell_type": "code",
   "execution_count": 6,
   "metadata": {},
   "outputs": [
    {
     "name": "stdout",
     "output_type": "stream",
     "text": [
      "{星座查詢}\n"
     ]
    },
    {
     "data": {
      "application/vnd.jupyter.widget-view+json": {
       "model_id": "66808e6268e945c99c6969254272c983",
       "version_major": 2,
       "version_minor": 0
      },
      "text/plain": [
       "interactive(children=(Dropdown(description='星座', options={'一月22日至2月19日': '水瓶座', '二月20日至3月20日': '雙魚座', '三月21日至4…"
      ]
     },
     "metadata": {},
     "output_type": "display_data"
    },
    {
     "data": {
      "text/plain": [
       "<function __main__.f(星座)>"
      ]
     },
     "execution_count": 6,
     "metadata": {},
     "output_type": "execute_result"
    }
   ],
   "source": [
    "print(\"{星座查詢}\")\n",
    "interact(f,星座=dict (一月22日至2月19日=(\"水瓶座\"),\n",
    "                  二月20日至3月20日=(\"雙魚座\"),\n",
    "                  三月21日至4月20日=(\"牡羊座\"),\n",
    "                  四月21日至5月20日=(\"金牛座\"),\n",
    "                  五月21日至6月20日=(\"雙子座\"),\n",
    "                  六月21日至7月22日=(\"巨蟹座\"),\n",
    "                  七月23日至8月22日=(\"獅子座\"),\n",
    "                  八月23日至9月22日=(\"處女座\"),\n",
    "                  九月23日至10月22日=(\"天秤座\"),\n",
    "                  十月23日至11月22日=(\"天蠍座\"),\n",
    "                  十一月23日至12月22日=(\"射手座\"),\n",
    "                  十二月23日至1月21日=(\"摩羯座\")))"
   ]
  },
  {
   "cell_type": "code",
   "execution_count": null,
   "metadata": {},
   "outputs": [],
   "source": []
  }
 ],
 "metadata": {
  "kernelspec": {
   "display_name": "Python 3",
   "language": "python",
   "name": "python3"
  },
  "language_info": {
   "codemirror_mode": {
    "name": "ipython",
    "version": 3
   },
   "file_extension": ".py",
   "mimetype": "text/x-python",
   "name": "python",
   "nbconvert_exporter": "python",
   "pygments_lexer": "ipython3",
   "version": "3.7.4"
  }
 },
 "nbformat": 4,
 "nbformat_minor": 2
}
