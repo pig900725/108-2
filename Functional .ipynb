{
 "cells": [
  {
   "cell_type": "markdown",
   "metadata": {},
   "source": [
    "## Functional API in Keras"
   ]
  },
  {
   "cell_type": "code",
   "execution_count": 1,
   "metadata": {},
   "outputs": [],
   "source": [
    "# Import some useful packages\n",
    "import matplotlib.pyplot as plt\n",
    "import numpy as np\n",
    "\n",
    "# Layers for FNN\n",
    "from tensorflow.keras.models import Sequential\n",
    "from tensorflow.keras.layers import Dense\n",
    "from tensorflow.keras.layers import Flatten\n",
    "\n",
    "# Layers for CNN\n",
    "from tensorflow.keras.layers import Conv2D, MaxPool2D, GlobalAveragePooling2D\n",
    "\n",
    "from tensorflow.keras.optimizers import SGD, Adam\n",
    "\n",
    "# For data preprocessing\n",
    "from tensorflow.keras import datasets\n",
    "from tensorflow.keras.utils import to_categorical"
   ]
  },
  {
   "cell_type": "code",
   "execution_count": 2,
   "metadata": {},
   "outputs": [],
   "source": [
    "# Load Fashine MNIST\n",
    "(X_train, y_train), (X_test, y_test) = datasets.fashion_mnist.load_data()\n",
    "\n",
    "# Reshape size\n",
    "X_train = X_train.reshape(-1, 28*28)\n",
    "X_test = X_test.reshape(-1, 28*28)\n",
    "\n",
    "# Normalize the range of featurs\n",
    "X_train = X_train / X_train.max()\n",
    "X_test = X_test / X_test.max()\n",
    "\n",
    "# One-hot encoding\n",
    "y_train = to_categorical(y_train, 10)\n",
    "y_test = to_categorical(y_test, 10)"
   ]
  },
  {
   "cell_type": "markdown",
   "metadata": {},
   "source": [
    "## 建立非線性堆疊模型"
   ]
  },
  {
   "cell_type": "code",
   "execution_count": 3,
   "metadata": {},
   "outputs": [],
   "source": [
    "from tensorflow.keras.models import Model\n",
    "from tensorflow.keras.layers import Input\n",
    "from tensorflow.keras.layers import concatenate, add"
   ]
  },
  {
   "cell_type": "markdown",
   "metadata": {},
   "source": [
    "## 1 變數名稱定義"
   ]
  },
  {
   "cell_type": "code",
   "execution_count": 4,
   "metadata": {},
   "outputs": [],
   "source": [
    "f_1 = Dense(336, activation='relu')\n",
    "f_2 = Dense(168, activation='relu')\n",
    "f_3 = Dense(168, activation='relu')\n",
    "f_4 = Dense(10, activation='softmax')"
   ]
  },
  {
   "cell_type": "markdown",
   "metadata": {},
   "source": [
    "## 2 定義層前後變數之間的關係；第一個變數必定以 Input 函數來定義"
   ]
  },
  {
   "cell_type": "code",
   "execution_count": 5,
   "metadata": {},
   "outputs": [],
   "source": [
    "x = Input(shape=(784,))"
   ]
  },
  {
   "cell_type": "markdown",
   "metadata": {},
   "source": [
    "## 3 接著就如變數說明，大概照著數學式輸入"
   ]
  },
  {
   "cell_type": "code",
   "execution_count": 6,
   "metadata": {},
   "outputs": [],
   "source": [
    "h_1 = f_1(x)\n",
    "h_2 = f_2(h_1)\n",
    "z = f_3(h_1)\n",
    "u = concatenate([h_2, z])\n",
    "y = f_4(u)"
   ]
  },
  {
   "cell_type": "markdown",
   "metadata": {},
   "source": [
    "## 4  Model 將一個模型的輸入/輸出包裝 結束"
   ]
  },
  {
   "cell_type": "code",
   "execution_count": 7,
   "metadata": {},
   "outputs": [
    {
     "name": "stdout",
     "output_type": "stream",
     "text": [
      "Model: \"model\"\n",
      "__________________________________________________________________________________________________\n",
      "Layer (type)                    Output Shape         Param #     Connected to                     \n",
      "==================================================================================================\n",
      "input_1 (InputLayer)            [(None, 784)]        0                                            \n",
      "__________________________________________________________________________________________________\n",
      "dense (Dense)                   (None, 336)          263760      input_1[0][0]                    \n",
      "__________________________________________________________________________________________________\n",
      "dense_1 (Dense)                 (None, 168)          56616       dense[0][0]                      \n",
      "__________________________________________________________________________________________________\n",
      "dense_2 (Dense)                 (None, 168)          56616       dense[0][0]                      \n",
      "__________________________________________________________________________________________________\n",
      "concatenate (Concatenate)       (None, 336)          0           dense_1[0][0]                    \n",
      "                                                                 dense_2[0][0]                    \n",
      "__________________________________________________________________________________________________\n",
      "dense_3 (Dense)                 (None, 10)           3370        concatenate[0][0]                \n",
      "==================================================================================================\n",
      "Total params: 380,362\n",
      "Trainable params: 380,362\n",
      "Non-trainable params: 0\n",
      "__________________________________________________________________________________________________\n"
     ]
    }
   ],
   "source": [
    "model = Model(x, y)\n",
    "model.summary()"
   ]
  },
  {
   "cell_type": "code",
   "execution_count": 8,
   "metadata": {},
   "outputs": [],
   "source": [
    "model.compile(optimizer='adam', loss='mse', metrics=['accuracy'])"
   ]
  },
  {
   "cell_type": "code",
   "execution_count": 9,
   "metadata": {},
   "outputs": [
    {
     "name": "stdout",
     "output_type": "stream",
     "text": [
      "Train on 60000 samples, validate on 10000 samples\n",
      "Epoch 1/10\n",
      "60000/60000 [==============================] - 2s 32us/sample - loss: 0.0339 - accuracy: 0.7646 - val_loss: 0.0243 - val_accuracy: 0.8341\n",
      "Epoch 2/10\n",
      "60000/60000 [==============================] - 1s 21us/sample - loss: 0.0217 - accuracy: 0.8518 - val_loss: 0.0217 - val_accuracy: 0.8493\n",
      "Epoch 3/10\n",
      "60000/60000 [==============================] - 1s 21us/sample - loss: 0.0195 - accuracy: 0.8680 - val_loss: 0.0203 - val_accuracy: 0.8606\n",
      "Epoch 4/10\n",
      "60000/60000 [==============================] - 1s 22us/sample - loss: 0.0179 - accuracy: 0.8793 - val_loss: 0.0195 - val_accuracy: 0.8680\n",
      "Epoch 5/10\n",
      "60000/60000 [==============================] - 2s 30us/sample - loss: 0.0169 - accuracy: 0.8861 - val_loss: 0.0188 - val_accuracy: 0.8706\n",
      "Epoch 6/10\n",
      "60000/60000 [==============================] - 1s 21us/sample - loss: 0.0162 - accuracy: 0.8906 - val_loss: 0.0192 - val_accuracy: 0.8666\n",
      "Epoch 7/10\n",
      "60000/60000 [==============================] - 1s 20us/sample - loss: 0.0156 - accuracy: 0.8953 - val_loss: 0.0184 - val_accuracy: 0.8732\n",
      "Epoch 8/10\n",
      "60000/60000 [==============================] - 1s 23us/sample - loss: 0.0149 - accuracy: 0.8988 - val_loss: 0.0175 - val_accuracy: 0.8824\n",
      "Epoch 9/10\n",
      "60000/60000 [==============================] - 1s 22us/sample - loss: 0.0142 - accuracy: 0.9047 - val_loss: 0.0190 - val_accuracy: 0.8670\n",
      "Epoch 10/10\n",
      "60000/60000 [==============================] - 1s 21us/sample - loss: 0.0141 - accuracy: 0.9057 - val_loss: 0.0176 - val_accuracy: 0.8801\n"
     ]
    }
   ],
   "source": [
    "MODEL = model.fit(X_train, y_train, batch_size=1000, epochs=10, validation_data=(X_test, y_test))"
   ]
  },
  {
   "cell_type": "code",
   "execution_count": 10,
   "metadata": {},
   "outputs": [
    {
     "name": "stdout",
     "output_type": "stream",
     "text": [
      "60000/60000 [==============================] - 1s 13us/sample - loss: 0.0135 - accuracy: 0.9109\n"
     ]
    }
   ],
   "source": [
    "score = model.evaluate(X_train, y_train, batch_size=5000)"
   ]
  },
  {
   "cell_type": "code",
   "execution_count": 11,
   "metadata": {},
   "outputs": [
    {
     "data": {
      "image/png": "[encoded data removed]",
      "text/plain": [
       "<Figure size 432x288 with 1 Axes>"
      ]
     },
     "metadata": {
      "needs_background": "light"
     },
     "output_type": "display_data"
    }
   ],
   "source": [
    "plt.plot(MODEL.history['accuracy'])\n",
    "plt.plot(MODEL.history['val_accuracy'])\n",
    "plt.title('model accuracy')\n",
    "plt.ylabel('accuracy')\n",
    "plt.xlabel('epoch')\n",
    "plt.legend(['train', 'test'], loc='upper left')\n",
    "plt.show()"
   ]
  },
  {
   "cell_type": "code",
   "execution_count": null,
   "metadata": {},
   "outputs": [],
   "source": []
  }
 ],
 "metadata": {
  "kernelspec": {
   "display_name": "Python 3",
   "language": "python",
   "name": "python3"
  },
  "language_info": {
   "codemirror_mode": {
    "name": "ipython",
    "version": 3
   },
   "file_extension": ".py",
   "mimetype": "text/x-python",
   "name": "python",
   "nbconvert_exporter": "python",
   "pygments_lexer": "ipython3",
   "version": "3.7.4"
  }
 },
 "nbformat": 4,
 "nbformat_minor": 2
}
