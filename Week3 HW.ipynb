{
 "cells": [
  {
   "cell_type": "code",
   "execution_count": 1,
   "metadata": {},
   "outputs": [],
   "source": [
    "%matplotlib inline\n",
    "import numpy as np\n",
    "import pandas as pd\n",
    "import matplotlib.pyplot as plt"
   ]
  },
  {
   "cell_type": "markdown",
   "metadata": {},
   "source": [
    "## 1.倍數判斷"
   ]
  },
  {
   "cell_type": "code",
   "execution_count": 1,
   "metadata": {},
   "outputs": [
    {
     "name": "stdout",
     "output_type": "stream",
     "text": [
      "請輸入數字: 30\n"
     ]
    },
    {
     "data": {
      "text/plain": [
       "False"
      ]
     },
     "execution_count": 1,
     "metadata": {},
     "output_type": "execute_result"
    },
    {
     "data": {
      "text/plain": [
       "False"
      ]
     },
     "execution_count": 1,
     "metadata": {},
     "output_type": "execute_result"
    }
   ],
   "source": [
    "num = int(input(\"請輸入數字: \"))\n",
    "def test(num):\n",
    "    return (num%7)==0\n",
    "test(num)"
   ]
  },
  {
   "cell_type": "code",
   "execution_count": 2,
   "metadata": {},
   "outputs": [
    {
     "name": "stdout",
     "output_type": "stream",
     "text": [
      "請輸入數字: 80\n",
      "80不是7的倍數\n",
      "80不是7的倍數\n"
     ]
    }
   ],
   "source": [
    "num = int(input(\"請輸入數字: \"))\n",
    "\n",
    "if (num%7) == 0:\n",
    "    print(\"{}是7的倍數\".format(num))\n",
    "else:\n",
    "    print(\"{}不是7的倍數\".format(num))"
   ]
  },
  {
   "cell_type": "code",
   "execution_count": 3,
   "metadata": {},
   "outputs": [
    {
     "name": "stdout",
     "output_type": "stream",
     "text": [
      "請輸入數字: 35\n"
     ]
    },
    {
     "data": {
      "text/plain": [
       "[35]"
      ]
     },
     "execution_count": 3,
     "metadata": {},
     "output_type": "execute_result"
    },
    {
     "data": {
      "text/plain": [
       "[35]"
      ]
     },
     "execution_count": 3,
     "metadata": {},
     "output_type": "execute_result"
    }
   ],
   "source": [
    "str_in = input(\"請輸入數字: \")\n",
    "num = [int(n) for n in str_in.split(',')]\n",
    "\n",
    "list(filter(lambda num:num%7==0,num))"
   ]
  },
  {
   "cell_type": "code",
   "execution_count": 4,
   "metadata": {},
   "outputs": [
    {
     "name": "stdout",
     "output_type": "stream",
     "text": [
      "我想要找的倍數: 29\n",
      "請輸入數字: 258,192,1029,6666\n",
      "在您所輸入的數字之中,沒有任何一個數字是29的倍數\n",
      "在您所輸入的數字之中,沒有任何一個數字是29的倍數\n"
     ]
    }
   ],
   "source": [
    "times = int(input(\"我想要找的倍數: \"))\n",
    "str_in = input(\"請輸入數字: \")\n",
    "num = [int(n) for n in str_in.split(',')]\n",
    "\n",
    "results = list(filter(lambda num:num%times==0,num))\n",
    "\n",
    "ta = list(map(lambda x:str(x),results))\n",
    "s = \",\".join(ta)\n",
    "\n",
    "if results!= []:\n",
    "    print(\"在您所輸入的數字之中,{}是{}的倍數\".format(s, times))\n",
    "else:\n",
    "    print(\"在您所輸入的數字之中,沒有任何一個數字是{}的倍數\".format(times))"
   ]
  },
  {
   "cell_type": "markdown",
   "metadata": {},
   "source": [
    "## 2.猜數字"
   ]
  },
  {
   "cell_type": "code",
   "execution_count": 5,
   "metadata": {},
   "outputs": [
    {
     "name": "stdout",
     "output_type": "stream",
     "text": [
      "猜數字遊戲～\n",
      "猜數字遊戲～\n",
      "請輸入四位不重複的數字(輸入Q放棄遊戲)2894\n",
      "第1次\n",
      "你猜的數字為：2894 0A1B\n",
      "第1次\n",
      "你猜的數字為：2894 0A1B\n",
      "請輸入四位不重複的數字(輸入Q放棄遊戲)Q\n",
      "好可惜！你已放棄遊戲！\n",
      "好可惜！你已放棄遊戲！\n"
     ]
    }
   ],
   "source": [
    "import random\n",
    "\n",
    "def pickNum():\n",
    "    digit = ('0123456789')\n",
    "    ans = \"\".join(random.sample(digit, 4))\n",
    "    return ans\n",
    "\n",
    "def timer(times):\n",
    "    times += 1\n",
    "    return times\n",
    "\n",
    "def comparison(guess, ans):\n",
    "    a, b = 0, 0\n",
    "    for i in range(4):\n",
    "        if guess[i] == ans[i]:\n",
    "            a += 1\n",
    "        elif guess[i] in ans:\n",
    "            b += 1\n",
    "    return (a,b)\n",
    "    \n",
    "def guessNumGame():\n",
    "    ans = pickNum()\n",
    "    times = 0\n",
    "    print(\"猜數字遊戲～\")\n",
    "    while True:\n",
    "        guess = input(\"請輸入四位不重複的數字(輸入Q放棄遊戲)\")\n",
    "        if len(guess) == 4 and guess.isdecimal():\n",
    "            (a, b) = comparison(guess, ans)\n",
    "            times = timer(times)\n",
    "            print(\"第\" + str(times) + \"次\")\n",
    "            print(\"你猜的數字為：\" + str(guess) + \" \" + str(a) + \"A\" + str(b) + \"B\")\n",
    "            if guess == ans:\n",
    "                print(\"你猜對了！答案為：\" + str(ans))\n",
    "                break\n",
    "        elif guess == \"Q\" or guess == \"q\":\n",
    "            print(\"好可惜！你已放棄遊戲！\")\n",
    "            break\n",
    "        else:\n",
    "            print(\"輸入錯誤，請重新輸入\")  \n",
    "    \n",
    "guessNumGame()"
   ]
  },
  {
   "cell_type": "markdown",
   "metadata": {},
   "source": [
    "## 3.尋找孿生質數"
   ]
  },
  {
   "cell_type": "code",
   "execution_count": 7,
   "metadata": {},
   "outputs": [],
   "source": [
    "import sympy as sp\n",
    "from sympy.abc import x"
   ]
  },
  {
   "cell_type": "code",
   "execution_count": 9,
   "metadata": {},
   "outputs": [
    {
     "name": "stdout",
     "output_type": "stream",
     "text": [
      "104759 104761\n",
      "104759 104761\n"
     ]
    }
   ],
   "source": [
    "a=10**4\n",
    "b=a+1\n",
    "s=sp.prime(a)\n",
    "p=sp.prime(b)\n",
    "while p-s!=2:\n",
    "    a=a+1\n",
    "    b=b+1\n",
    "    s=sp.prime(a)\n",
    "    p=sp.prime(b)\n",
    "else:\n",
    "    print(s,p)"
   ]
  },
  {
   "cell_type": "code",
   "execution_count": null,
   "metadata": {},
   "outputs": [],
   "source": []
  }
 ],
 "metadata": {
  "kernelspec": {
   "display_name": "Python 3",
   "language": "python",
   "name": "python3"
  },
  "language_info": {
   "codemirror_mode": {
    "name": "ipython",
    "version": 3
   },
   "file_extension": ".py",
   "mimetype": "text/x-python",
   "name": "python",
   "nbconvert_exporter": "python",
   "pygments_lexer": "ipython3",
   "version": "3.7.4"
  }
 },
 "nbformat": 4,
 "nbformat_minor": 2
}
