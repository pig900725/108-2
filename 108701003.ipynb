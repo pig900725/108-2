{
 "cells": [
  {
   "cell_type": "code",
   "execution_count": 1,
   "metadata": {},
   "outputs": [],
   "source": [
    "%matplotlib inline\n",
    "\n",
    "import numpy as np\n",
    "import matplotlib.pyplot as plt"
   ]
  },
  {
   "cell_type": "markdown",
   "metadata": {},
   "source": [
    "## 讀入Fashion Mnist 數據集"
   ]
  },
  {
   "cell_type": "code",
   "execution_count": 2,
   "metadata": {},
   "outputs": [],
   "source": [
    "from tensorflow.keras.datasets import fashion_mnist"
   ]
  },
  {
   "cell_type": "code",
   "execution_count": 3,
   "metadata": {},
   "outputs": [],
   "source": [
    "(x_train, y_train), (x_test, y_test) = fashion_mnist.load_data()"
   ]
  },
  {
   "cell_type": "code",
   "execution_count": 5,
   "metadata": {},
   "outputs": [
    {
     "data": {
      "text/plain": [
       "(60000, 10000)"
      ]
     },
     "execution_count": 5,
     "metadata": {},
     "output_type": "execute_result"
    }
   ],
   "source": [
    "len(x_train),len(x_test)"
   ]
  },
  {
   "cell_type": "code",
   "execution_count": 6,
   "metadata": {},
   "outputs": [],
   "source": [
    "class_names = ['T-shirt/top', 'Trouser', 'Pullover', 'Dress', 'Coat',\n",
    "                       'Sandal', 'Shirt', 'Sneaker', 'Bag', 'Ankle boot']"
   ]
  },
  {
   "cell_type": "code",
   "execution_count": 7,
   "metadata": {},
   "outputs": [
    {
     "name": "stdout",
     "output_type": "stream",
     "text": [
      "這是 Shirt\n"
     ]
    },
    {
     "data": {
      "image/png": "[encoded data removed]",
      "text/plain": [
       "<Figure size 432x288 with 1 Axes>"
      ]
     },
     "metadata": {
      "needs_background": "light"
     },
     "output_type": "display_data"
    }
   ],
   "source": [
    "n = 7345\n",
    "print('這是', class_names[y_train[n]])\n",
    "plt.imshow(x_train[n], cmap='Greys');"
   ]
  },
  {
   "cell_type": "code",
   "execution_count": 10,
   "metadata": {},
   "outputs": [
    {
     "data": {
      "image/png": "[encoded data removed]",
      "text/plain": [
       "<Figure size 432x288 with 3 Axes>"
      ]
     },
     "metadata": {},
     "output_type": "display_data"
    }
   ],
   "source": [
    "pick = np.random.choice(60000,3,replace=False)\n",
    "\n",
    "for i in range(3):\n",
    "    n = pick[i]\n",
    "    ax = plt.subplot(151+i)\n",
    "    ax.set_xticks([])\n",
    "    ax.set_yticks([])\n",
    "    ax.set_title(class_names[y_train[n]], fontsize=10)\n",
    "    plt.imshow(x_train[n], cmap='Greys')"
   ]
  },
  {
   "cell_type": "code",
   "execution_count": 11,
   "metadata": {},
   "outputs": [],
   "source": [
    "x_train = x_train/255\n",
    "y_train = y_train/255"
   ]
  },
  {
   "cell_type": "code",
   "execution_count": 12,
   "metadata": {},
   "outputs": [
    {
     "data": {
      "text/plain": [
       "(60000, 28, 28)"
      ]
     },
     "execution_count": 12,
     "metadata": {},
     "output_type": "execute_result"
    }
   ],
   "source": [
    "x_train.shape"
   ]
  },
  {
   "cell_type": "code",
   "execution_count": 13,
   "metadata": {},
   "outputs": [],
   "source": [
    "x_train = x_train.reshape(60000, 784)"
   ]
  },
  {
   "cell_type": "code",
   "execution_count": 14,
   "metadata": {},
   "outputs": [
    {
     "data": {
      "text/plain": [
       "(60000,)"
      ]
     },
     "execution_count": 14,
     "metadata": {},
     "output_type": "execute_result"
    }
   ],
   "source": [
    "y_train.shape"
   ]
  },
  {
   "cell_type": "code",
   "execution_count": 15,
   "metadata": {},
   "outputs": [],
   "source": [
    "x_test = x_test.reshape(10000, 784)"
   ]
  },
  {
   "cell_type": "code",
   "execution_count": 16,
   "metadata": {},
   "outputs": [],
   "source": [
    "from tensorflow.keras.utils import to_categorical"
   ]
  },
  {
   "cell_type": "code",
   "execution_count": 17,
   "metadata": {},
   "outputs": [],
   "source": [
    "y_train = to_categorical(y_train, 10)"
   ]
  },
  {
   "cell_type": "code",
   "execution_count": 18,
   "metadata": {},
   "outputs": [],
   "source": [
    "y_test = to_categorical(y_test, 10)"
   ]
  },
  {
   "cell_type": "code",
   "execution_count": 19,
   "metadata": {},
   "outputs": [
    {
     "data": {
      "text/plain": [
       "array([1., 0., 0., 0., 0., 0., 0., 0., 0., 0.], dtype=float32)"
      ]
     },
     "execution_count": 19,
     "metadata": {},
     "output_type": "execute_result"
    }
   ],
   "source": [
    "y_train[n]"
   ]
  },
  {
   "cell_type": "code",
   "execution_count": 20,
   "metadata": {},
   "outputs": [],
   "source": [
    "from tensorflow.keras.models import Sequential\n",
    "from tensorflow.keras.layers import Dense\n",
    "from tensorflow.keras.optimizers import SGD"
   ]
  },
  {
   "cell_type": "code",
   "execution_count": 21,
   "metadata": {},
   "outputs": [],
   "source": [
    "model = Sequential()"
   ]
  },
  {
   "cell_type": "code",
   "execution_count": 22,
   "metadata": {},
   "outputs": [],
   "source": [
    "model.add(Dense(67, input_dim = 784, activation='relu'))\n",
    "model.add(Dense(34, activation='relu'))\n",
    "model.add(Dense(10, activation='softmax'))"
   ]
  },
  {
   "cell_type": "code",
   "execution_count": 23,
   "metadata": {},
   "outputs": [],
   "source": [
    "model.compile(loss='mse', optimizer=SGD(lr=0.0067), metrics=['accuracy'])"
   ]
  },
  {
   "cell_type": "code",
   "execution_count": 24,
   "metadata": {},
   "outputs": [
    {
     "name": "stdout",
     "output_type": "stream",
     "text": [
      "Model: \"sequential\"\n",
      "_________________________________________________________________\n",
      "Layer (type)                 Output Shape              Param #   \n",
      "=================================================================\n",
      "dense (Dense)                (None, 67)                52595     \n",
      "_________________________________________________________________\n",
      "dense_1 (Dense)              (None, 34)                2312      \n",
      "_________________________________________________________________\n",
      "dense_2 (Dense)              (None, 10)                350       \n",
      "=================================================================\n",
      "Total params: 55,257\n",
      "Trainable params: 55,257\n",
      "Non-trainable params: 0\n",
      "_________________________________________________________________\n"
     ]
    }
   ],
   "source": [
    "model.summary()"
   ]
  },
  {
   "cell_type": "markdown",
   "metadata": {},
   "source": [
    "### Train"
   ]
  },
  {
   "cell_type": "code",
   "execution_count": 25,
   "metadata": {},
   "outputs": [
    {
     "name": "stdout",
     "output_type": "stream",
     "text": [
      "Train on 60000 samples\n",
      "Epoch 1/30\n",
      "60000/60000 [==============================] - 3s 45us/sample - loss: 0.0014 - accuracy: 0.9984\n",
      "Epoch 2/30\n",
      "60000/60000 [==============================] - 2s 34us/sample - loss: 8.2917e-05 - accuracy: 1.0000\n",
      "Epoch 3/30\n",
      "60000/60000 [==============================] - 2s 38us/sample - loss: 4.4318e-05 - accuracy: 1.0000\n",
      "Epoch 4/30\n",
      "60000/60000 [==============================] - 2s 34us/sample - loss: 2.9818e-05 - accuracy: 1.0000\n",
      "Epoch 5/30\n",
      "60000/60000 [==============================] - 2s 35us/sample - loss: 2.2277e-05 - accuracy: 1.0000\n",
      "Epoch 6/30\n",
      "60000/60000 [==============================] - 2s 34us/sample - loss: 1.7697e-05 - accuracy: 1.0000\n",
      "Epoch 7/30\n",
      "60000/60000 [==============================] - 2s 34us/sample - loss: 1.4639e-05 - accuracy: 1.0000\n",
      "Epoch 8/30\n",
      "60000/60000 [==============================] - 2s 38us/sample - loss: 1.2454e-05 - accuracy: 1.0000\n",
      "Epoch 9/30\n",
      "60000/60000 [==============================] - 2s 34us/sample - loss: 1.0816e-05 - accuracy: 1.0000\n",
      "Epoch 10/30\n",
      "60000/60000 [==============================] - 2s 38us/sample - loss: 9.5453e-06 - accuracy: 1.0000\n",
      "Epoch 11/30\n",
      "60000/60000 [==============================] - 2s 34us/sample - loss: 8.5332e-06 - accuracy: 1.0000\n",
      "Epoch 12/30\n",
      "60000/60000 [==============================] - 2s 35us/sample - loss: 7.7075e-06 - accuracy: 1.0000\n",
      "Epoch 13/30\n",
      "60000/60000 [==============================] - 2s 37us/sample - loss: 7.0222e-06 - accuracy: 1.0000\n",
      "Epoch 14/30\n",
      "60000/60000 [==============================] - 2s 35us/sample - loss: 6.4452e-06 - accuracy: 1.0000\n",
      "Epoch 15/30\n",
      "60000/60000 [==============================] - 2s 38us/sample - loss: 5.9528e-06 - accuracy: 1.0000\n",
      "Epoch 16/30\n",
      "60000/60000 [==============================] - 2s 34us/sample - loss: 5.5280e-06 - accuracy: 1.0000\n",
      "Epoch 17/30\n",
      "60000/60000 [==============================] - 2s 36us/sample - loss: 5.1574e-06 - accuracy: 1.0000\n",
      "Epoch 18/30\n",
      "60000/60000 [==============================] - 2s 36us/sample - loss: 4.8317e-06 - accuracy: 1.0000\n",
      "Epoch 19/30\n",
      "60000/60000 [==============================] - 2s 34us/sample - loss: 4.5432e-06 - accuracy: 1.0000\n",
      "Epoch 20/30\n",
      "60000/60000 [==============================] - 2s 34us/sample - loss: 4.2861e-06 - accuracy: 1.0000\n",
      "Epoch 21/30\n",
      "60000/60000 [==============================] - 2s 33us/sample - loss: 4.0558e-06 - accuracy: 1.0000\n",
      "Epoch 22/30\n",
      "60000/60000 [==============================] - 2s 35us/sample - loss: 3.8479e-06 - accuracy: 1.0000\n",
      "Epoch 23/30\n",
      "60000/60000 [==============================] - 2s 33us/sample - loss: 3.6595e-06 - accuracy: 1.0000\n",
      "Epoch 24/30\n",
      "60000/60000 [==============================] - 2s 33us/sample - loss: 3.4881e-06 - accuracy: 1.0000\n",
      "Epoch 25/30\n",
      "60000/60000 [==============================] - 2s 33us/sample - loss: 3.3315e-06 - accuracy: 1.0000\n",
      "Epoch 26/30\n",
      "60000/60000 [==============================] - 2s 36us/sample - loss: 3.1878e-06 - accuracy: 1.0000s - loss: 3.3109e-06 - accura\n",
      "Epoch 27/30\n",
      "60000/60000 [==============================] - 2s 41us/sample - loss: 3.0556e-06 - accuracy: 1.0000\n",
      "Epoch 28/30\n",
      "60000/60000 [==============================] - 2s 40us/sample - loss: 2.9336e-06 - accuracy: 1.0000\n",
      "Epoch 29/30\n",
      "60000/60000 [==============================] - 2s 35us/sample - loss: 2.8205e-06 - accuracy: 1.0000\n",
      "Epoch 30/30\n",
      "60000/60000 [==============================] - 2s 33us/sample - loss: 2.7156e-06 - accuracy: 1.0000\n"
     ]
    },
    {
     "data": {
      "text/plain": [
       "<tensorflow.python.keras.callbacks.History at 0x1cc29812470>"
      ]
     },
     "execution_count": 25,
     "metadata": {},
     "output_type": "execute_result"
    }
   ],
   "source": [
    "model.fit(x_train, y_train, batch_size=50, epochs=30)"
   ]
  },
  {
   "cell_type": "markdown",
   "metadata": {},
   "source": [
    "### 成果"
   ]
  },
  {
   "cell_type": "code",
   "execution_count": 26,
   "metadata": {},
   "outputs": [],
   "source": [
    "result = model.predict_classes(x_test)"
   ]
  },
  {
   "cell_type": "code",
   "execution_count": 28,
   "metadata": {},
   "outputs": [
    {
     "data": {
      "text/plain": [
       "0"
      ]
     },
     "execution_count": 28,
     "metadata": {},
     "output_type": "execute_result"
    }
   ],
   "source": [
    "result[9999]"
   ]
  },
  {
   "cell_type": "code",
   "execution_count": 29,
   "metadata": {},
   "outputs": [
    {
     "name": "stdout",
     "output_type": "stream",
     "text": [
      "神經網路預測是: T-shirt/top\n"
     ]
    },
    {
     "data": {
      "text/plain": [
       "<matplotlib.image.AxesImage at 0x1cc476024e0>"
      ]
     },
     "execution_count": 29,
     "metadata": {},
     "output_type": "execute_result"
    },
    {
     "data": {
      "image/png": "[encoded data removed]",
      "text/plain": [
       "<Figure size 432x288 with 1 Axes>"
      ]
     },
     "metadata": {
      "needs_background": "light"
     },
     "output_type": "display_data"
    }
   ],
   "source": [
    "n = 9999\n",
    "print('神經網路預測是:',class_names[result[n]])\n",
    "plt.imshow(x_test[n].reshape(28,28), cmap='Greys')"
   ]
  },
  {
   "cell_type": "code",
   "execution_count": null,
   "metadata": {},
   "outputs": [],
   "source": []
  }
 ],
 "metadata": {
  "kernelspec": {
   "display_name": "Python 3",
   "language": "python",
   "name": "python3"
  },
  "language_info": {
   "codemirror_mode": {
    "name": "ipython",
    "version": 3
   },
   "file_extension": ".py",
   "mimetype": "text/x-python",
   "name": "python",
   "nbconvert_exporter": "python",
   "pygments_lexer": "ipython3",
   "version": "3.7.3"
  }
 },
 "nbformat": 4,
 "nbformat_minor": 2
}
